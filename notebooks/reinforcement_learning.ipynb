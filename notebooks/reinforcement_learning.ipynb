{
 "cells": [
  {
   "cell_type": "code",
   "execution_count": 1,
   "metadata": {},
   "outputs": [],
   "source": [
    "import numpy as np\n",
    "import matplotlib.pyplot as plt\n",
    "from glob import glob\n",
    "import pandas as pd"
   ]
  },
  {
   "cell_type": "code",
   "execution_count": 2,
   "metadata": {},
   "outputs": [],
   "source": [
    "actor_lrs = []\n",
    "critic_lrs = []\n",
    "performances = []\n",
    "for suffix in ['', '-fix', '-fix2']:\n",
    "    for path_perf, path_params in zip(\n",
    "            glob(f'../dat/runs/ppo-linear{suffix}/working_directories/*/performance.npy'),\n",
    "            glob(f'../dat/runs/ppo-linear{suffix}/working_directories/*/param_choice.csv')\n",
    "        ):\n",
    "        performances.append(np.load(path_perf))\n",
    "        params = pd.read_csv(path_params)\n",
    "        actor_lrs.append(params['actor_lr'].values[0])\n",
    "        critic_lrs.append(params['critic_lr'].values[0])\n",
    "\n",
    "performances = np.array(performances)\n",
    "actor_lrs = np.array(actor_lrs)\n",
    "critic_lrs = np.array(critic_lrs)"
   ]
  },
  {
   "cell_type": "code",
   "execution_count": 3,
   "metadata": {},
   "outputs": [],
   "source": [
    "performances = performances.mean(-1)"
   ]
  },
  {
   "cell_type": "code",
   "execution_count": 4,
   "metadata": {},
   "outputs": [
    {
     "data": {
      "text/plain": [
       "array([[0.193, 0.193, 0.172, ..., 0.238, 0.265, 0.24 ],\n",
       "       [0.177, 0.172, 0.201, ..., 0.275, 0.296, 0.262],\n",
       "       [0.191, 0.195, 0.188, ..., 0.255, 0.281, 0.264],\n",
       "       ...,\n",
       "       [0.193, 0.193, 0.172, ..., 0.251, 0.224, 0.222],\n",
       "       [0.177, 0.172, 0.187, ..., 0.233, 0.214, 0.206],\n",
       "       [0.191, 0.195, 0.188, ..., 0.254, 0.268, 0.241]])"
      ]
     },
     "execution_count": 4,
     "metadata": {},
     "output_type": "execute_result"
    }
   ],
   "source": [
    "performances[actor_lrs == 0.001]"
   ]
  },
  {
   "cell_type": "code",
   "execution_count": 5,
   "metadata": {},
   "outputs": [
    {
     "data": {
      "text/plain": [
       "(180, 200)"
      ]
     },
     "execution_count": 5,
     "metadata": {},
     "output_type": "execute_result"
    }
   ],
   "source": [
    "performances.shape"
   ]
  },
  {
   "cell_type": "code",
   "execution_count": 6,
   "metadata": {},
   "outputs": [],
   "source": [
    "alrs = np.unique(actor_lrs)\n",
    "clrs = np.unique(critic_lrs)\n",
    "\n",
    "means = np.array([\n",
    "    [performances[(actor_lrs == alr) & (critic_lrs == clr), -10:].mean() for alr in alrs] for clr in clrs\n",
    "])"
   ]
  },
  {
   "cell_type": "code",
   "execution_count": 7,
   "metadata": {},
   "outputs": [
    {
     "data": {
      "text/plain": [
       "array([[0.1852 , 0.17928, 0.1558 , 0.14752, 0.1439 , 0.14562],\n",
       "       [0.17694, 0.1752 , 0.16648, 0.16016, 0.17066, 0.16934],\n",
       "       [0.19066, 0.21446, 0.24922, 0.27332, 0.28498, 0.28088],\n",
       "       [0.2037 , 0.24912, 0.31292, 0.34282, 0.3488 , 0.34892],\n",
       "       [0.20826, 0.26164, 0.3201 , 0.33588, 0.35864, 0.3523 ],\n",
       "       [0.211  , 0.25828, 0.30692, 0.3361 , 0.3465 , 0.3453 ]])"
      ]
     },
     "execution_count": 7,
     "metadata": {},
     "output_type": "execute_result"
    }
   ],
   "source": [
    "means"
   ]
  },
  {
   "cell_type": "code",
   "execution_count": 12,
   "metadata": {},
   "outputs": [
    {
     "data": {
      "text/plain": [
       "<matplotlib.colorbar.Colorbar at 0x12fe6a850>"
      ]
     },
     "execution_count": 12,
     "metadata": {},
     "output_type": "execute_result"
    },
    {
     "data": {
      "image/png": "[encoded data removed]",
      "text/plain": [
       "<Figure size 640x480 with 2 Axes>"
      ]
     },
     "metadata": {},
     "output_type": "display_data"
    }
   ],
   "source": [
    "fig, ax = plt.subplots()\n",
    "ax.set_xticks(np.arange(len(alrs)))\n",
    "ax.set_yticks(np.arange(len(clrs)))\n",
    "ax.set_xticklabels(alrs)\n",
    "ax.set_yticklabels(clrs)\n",
    "I = ax.pcolormesh(\n",
    "    means,\n",
    "    cmap='coolwarm')\n",
    "fig.colorbar(I, ax=ax)"
   ]
  }
 ],
 "metadata": {
  "kernelspec": {
   "display_name": ".venv",
   "language": "python",
   "name": "python3"
  },
  "language_info": {
   "codemirror_mode": {
    "name": "ipython",
    "version": 3
   },
   "file_extension": ".py",
   "mimetype": "text/x-python",
   "name": "python",
   "nbconvert_exporter": "python",
   "pygments_lexer": "ipython3",
   "version": "3.9.15"
  },
  "orig_nbformat": 4
 },
 "nbformat": 4,
 "nbformat_minor": 2
}
